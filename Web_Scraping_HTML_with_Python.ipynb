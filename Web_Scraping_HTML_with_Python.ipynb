{
  "nbformat": 4,
  "nbformat_minor": 0,
  "metadata": {
    "colab": {
      "name": "Web_Scraping_HTML_with_Python.ipynb",
      "provenance": []
    },
    "kernelspec": {
      "name": "python3",
      "display_name": "Python 3"
    },
    "language_info": {
      "name": "python"
    }
  },
  "cells": [
    {
      "cell_type": "markdown",
      "source": [
        "# Pokemon Database"
      ],
      "metadata": {
        "id": "csbW_xuHZeW6"
      }
    },
    {
      "cell_type": "code",
      "source": [
        "import requests\n",
        "import lxml.html as lh\n",
        "import pandas as pd"
      ],
      "metadata": {
        "id": "4rvjP5DqdHDY"
      },
      "execution_count": null,
      "outputs": []
    },
    {
      "cell_type": "code",
      "source": [
        "url = 'https://pokemondb.net/pokedex/all'"
      ],
      "metadata": {
        "id": "r7-BZIJEXJoO"
      },
      "execution_count": null,
      "outputs": []
    },
    {
      "cell_type": "code",
      "source": [
        "# Query the website and return the html\n",
        "page = requests.get(url)\n",
        "\n",
        "# Store the contents of the website under doc\n",
        "doc = lh.fromstring(page.content)\n",
        "\n",
        "# Parse data that are stored between <tr>..</tr> of HTML\n",
        "tr_elements = doc.xpath('//tr')"
      ],
      "metadata": {
        "id": "pKkIl_BOZSTY"
      },
      "execution_count": null,
      "outputs": []
    },
    {
      "cell_type": "code",
      "source": [
        "# Check the lengh of the first 12 rows to ensure all rows have the same width\n",
        "# If not, we probably got something more than just the table\n",
        "[len(T) for T in tr_elements[:12]]"
      ],
      "metadata": {
        "colab": {
          "base_uri": "https://localhost:8080/"
        },
        "id": "8cYPamGVZsgI",
        "outputId": "1c23eec4-50c9-48da-8f97-aaa50ab90778"
      },
      "execution_count": null,
      "outputs": [
        {
          "output_type": "execute_result",
          "data": {
            "text/plain": [
              "[10, 10, 10, 10, 10, 10, 10, 10, 10, 10, 10, 10]"
            ]
          },
          "metadata": {},
          "execution_count": 45
        }
      ]
    },
    {
      "cell_type": "markdown",
      "source": [
        "## 1. Parse Table Header"
      ],
      "metadata": {
        "id": "_eWy0VxEd5p4"
      }
    },
    {
      "cell_type": "code",
      "source": [
        "tr_elements = doc.xpath('//tr')\n",
        "\n",
        "# Create empty list\n",
        "col=[]\n",
        "i = 0\n",
        "\n",
        "# For each row, store each first element (header) and an empty list\n",
        "for t in tr_elements[0]:\n",
        "    i+=1\n",
        "    name=t.text_content()\n",
        "    print(i, name, '\\n')\n",
        "    col.append((name,[]))"
      ],
      "metadata": {
        "colab": {
          "base_uri": "https://localhost:8080/"
        },
        "id": "SykJn640dz4c",
        "outputId": "57c35a3e-8ddd-44b4-bd2c-148aa527890c"
      },
      "execution_count": null,
      "outputs": [
        {
          "output_type": "stream",
          "name": "stdout",
          "text": [
            "1 # \n",
            "\n",
            "2 Name \n",
            "\n",
            "3 Type \n",
            "\n",
            "4 Total \n",
            "\n",
            "5 HP \n",
            "\n",
            "6 Attack \n",
            "\n",
            "7 Defense \n",
            "\n",
            "8 Sp. Atk \n",
            "\n",
            "9 Sp. Def \n",
            "\n",
            "10 Speed \n",
            "\n"
          ]
        }
      ]
    },
    {
      "cell_type": "markdown",
      "source": [
        "Each header is appended to a tuple along with an empty list."
      ],
      "metadata": {
        "id": "Ri0PZukAamLi"
      }
    },
    {
      "cell_type": "markdown",
      "source": [
        "## 2. Creating Pandas DataFrame"
      ],
      "metadata": {
        "id": "dPcVfXyVgWOl"
      }
    },
    {
      "cell_type": "code",
      "source": [
        "# Starts from 1 as the first row is header so we skip 0\n",
        "for j in range(1, len(tr_elements)):\n",
        "    T = tr_elements[j] # the jth row\n",
        "\n",
        "    # If row is not of size 10, the //tr data is not from our table\n",
        "    if len(T) != 10:\n",
        "        break\n",
        "    i = 0 # the index of our column\n",
        "\n",
        "    for t in T.iterchildren():\n",
        "        data = t.text_content()\n",
        "        if i > 0: # check if the row is empty\n",
        "            try:\n",
        "                data = int(data) # convert any numerical value to integers\n",
        "            except:\n",
        "                pass\n",
        "        # Append the data to the empty list of ith column\n",
        "        col[i][1].append(data)\n",
        "        # Increment i for the next column\n",
        "        i += 1"
      ],
      "metadata": {
        "id": "LPkPbwqDgTtl"
      },
      "execution_count": null,
      "outputs": []
    },
    {
      "cell_type": "code",
      "source": [
        "# Check the length of each column again\n",
        "[len(c) for (title,c) in col]"
      ],
      "metadata": {
        "colab": {
          "base_uri": "https://localhost:8080/"
        },
        "id": "ii5HbUc-d0Og",
        "outputId": "1a505d34-ee91-46fd-bb67-bf1095a8b708"
      },
      "execution_count": null,
      "outputs": [
        {
          "output_type": "execute_result",
          "data": {
            "text/plain": [
              "[1075, 1075, 1075, 1075, 1075, 1075, 1075, 1075, 1075, 1075]"
            ]
          },
          "metadata": {},
          "execution_count": 53
        }
      ]
    },
    {
      "cell_type": "code",
      "source": [
        "# Create the DataFrame\n",
        "Dict = {title:column for (title, column) in col}\n",
        "df = pd.DataFrame(Dict)"
      ],
      "metadata": {
        "id": "QvcysSxCav6_"
      },
      "execution_count": null,
      "outputs": []
    },
    {
      "cell_type": "code",
      "source": [
        "df"
      ],
      "metadata": {
        "colab": {
          "base_uri": "https://localhost:8080/",
          "height": 424
        },
        "id": "VymKUdZPa0ho",
        "outputId": "90d08178-cb3f-45ac-a3da-fa6bb01dc7eb"
      },
      "execution_count": null,
      "outputs": [
        {
          "output_type": "execute_result",
          "data": {
            "text/plain": [
              "        #                      Name             Type  Total   HP  Attack  \\\n",
              "0     001                 Bulbasaur     Grass Poison    318   45      49   \n",
              "1     002                   Ivysaur     Grass Poison    405   60      62   \n",
              "2     003                  Venusaur     Grass Poison    525   80      82   \n",
              "3     003    Venusaur Mega Venusaur     Grass Poison    625   80     100   \n",
              "4     004                Charmander            Fire     309   39      52   \n",
              "...   ...                       ...              ...    ...  ...     ...   \n",
              "1070  902        Basculegion Female      Water Ghost    530  120      92   \n",
              "1071  903                  Sneasler  Poison Fighting    510   80     130   \n",
              "1072  904                  Overqwil      Dark Poison    510   85     115   \n",
              "1073  905  Enamorus Incarnate Forme     Fairy Flying    580   74     115   \n",
              "1074  905    Enamorus Therian Forme     Fairy Flying    580   74     115   \n",
              "\n",
              "      Defense  Sp. Atk  Sp. Def  Speed  \n",
              "0          49       65       65     45  \n",
              "1          63       80       80     60  \n",
              "2          83      100      100     80  \n",
              "3         123      122      120     80  \n",
              "4          43       60       50     65  \n",
              "...       ...      ...      ...    ...  \n",
              "1070       65      100       75     78  \n",
              "1071       60       40       80    120  \n",
              "1072       95       65       65     85  \n",
              "1073       70      135       80    106  \n",
              "1074      110      135      100     46  \n",
              "\n",
              "[1075 rows x 10 columns]"
            ],
            "text/html": [
              "\n",
              "  <div id=\"df-a10d9ab1-1fb1-4971-ad53-01585c92a745\">\n",
              "    <div class=\"colab-df-container\">\n",
              "      <div>\n",
              "<style scoped>\n",
              "    .dataframe tbody tr th:only-of-type {\n",
              "        vertical-align: middle;\n",
              "    }\n",
              "\n",
              "    .dataframe tbody tr th {\n",
              "        vertical-align: top;\n",
              "    }\n",
              "\n",
              "    .dataframe thead th {\n",
              "        text-align: right;\n",
              "    }\n",
              "</style>\n",
              "<table border=\"1\" class=\"dataframe\">\n",
              "  <thead>\n",
              "    <tr style=\"text-align: right;\">\n",
              "      <th></th>\n",
              "      <th>#</th>\n",
              "      <th>Name</th>\n",
              "      <th>Type</th>\n",
              "      <th>Total</th>\n",
              "      <th>HP</th>\n",
              "      <th>Attack</th>\n",
              "      <th>Defense</th>\n",
              "      <th>Sp. Atk</th>\n",
              "      <th>Sp. Def</th>\n",
              "      <th>Speed</th>\n",
              "    </tr>\n",
              "  </thead>\n",
              "  <tbody>\n",
              "    <tr>\n",
              "      <th>0</th>\n",
              "      <td>001</td>\n",
              "      <td>Bulbasaur</td>\n",
              "      <td>Grass Poison</td>\n",
              "      <td>318</td>\n",
              "      <td>45</td>\n",
              "      <td>49</td>\n",
              "      <td>49</td>\n",
              "      <td>65</td>\n",
              "      <td>65</td>\n",
              "      <td>45</td>\n",
              "    </tr>\n",
              "    <tr>\n",
              "      <th>1</th>\n",
              "      <td>002</td>\n",
              "      <td>Ivysaur</td>\n",
              "      <td>Grass Poison</td>\n",
              "      <td>405</td>\n",
              "      <td>60</td>\n",
              "      <td>62</td>\n",
              "      <td>63</td>\n",
              "      <td>80</td>\n",
              "      <td>80</td>\n",
              "      <td>60</td>\n",
              "    </tr>\n",
              "    <tr>\n",
              "      <th>2</th>\n",
              "      <td>003</td>\n",
              "      <td>Venusaur</td>\n",
              "      <td>Grass Poison</td>\n",
              "      <td>525</td>\n",
              "      <td>80</td>\n",
              "      <td>82</td>\n",
              "      <td>83</td>\n",
              "      <td>100</td>\n",
              "      <td>100</td>\n",
              "      <td>80</td>\n",
              "    </tr>\n",
              "    <tr>\n",
              "      <th>3</th>\n",
              "      <td>003</td>\n",
              "      <td>Venusaur Mega Venusaur</td>\n",
              "      <td>Grass Poison</td>\n",
              "      <td>625</td>\n",
              "      <td>80</td>\n",
              "      <td>100</td>\n",
              "      <td>123</td>\n",
              "      <td>122</td>\n",
              "      <td>120</td>\n",
              "      <td>80</td>\n",
              "    </tr>\n",
              "    <tr>\n",
              "      <th>4</th>\n",
              "      <td>004</td>\n",
              "      <td>Charmander</td>\n",
              "      <td>Fire</td>\n",
              "      <td>309</td>\n",
              "      <td>39</td>\n",
              "      <td>52</td>\n",
              "      <td>43</td>\n",
              "      <td>60</td>\n",
              "      <td>50</td>\n",
              "      <td>65</td>\n",
              "    </tr>\n",
              "    <tr>\n",
              "      <th>...</th>\n",
              "      <td>...</td>\n",
              "      <td>...</td>\n",
              "      <td>...</td>\n",
              "      <td>...</td>\n",
              "      <td>...</td>\n",
              "      <td>...</td>\n",
              "      <td>...</td>\n",
              "      <td>...</td>\n",
              "      <td>...</td>\n",
              "      <td>...</td>\n",
              "    </tr>\n",
              "    <tr>\n",
              "      <th>1070</th>\n",
              "      <td>902</td>\n",
              "      <td>Basculegion Female</td>\n",
              "      <td>Water Ghost</td>\n",
              "      <td>530</td>\n",
              "      <td>120</td>\n",
              "      <td>92</td>\n",
              "      <td>65</td>\n",
              "      <td>100</td>\n",
              "      <td>75</td>\n",
              "      <td>78</td>\n",
              "    </tr>\n",
              "    <tr>\n",
              "      <th>1071</th>\n",
              "      <td>903</td>\n",
              "      <td>Sneasler</td>\n",
              "      <td>Poison Fighting</td>\n",
              "      <td>510</td>\n",
              "      <td>80</td>\n",
              "      <td>130</td>\n",
              "      <td>60</td>\n",
              "      <td>40</td>\n",
              "      <td>80</td>\n",
              "      <td>120</td>\n",
              "    </tr>\n",
              "    <tr>\n",
              "      <th>1072</th>\n",
              "      <td>904</td>\n",
              "      <td>Overqwil</td>\n",
              "      <td>Dark Poison</td>\n",
              "      <td>510</td>\n",
              "      <td>85</td>\n",
              "      <td>115</td>\n",
              "      <td>95</td>\n",
              "      <td>65</td>\n",
              "      <td>65</td>\n",
              "      <td>85</td>\n",
              "    </tr>\n",
              "    <tr>\n",
              "      <th>1073</th>\n",
              "      <td>905</td>\n",
              "      <td>Enamorus Incarnate Forme</td>\n",
              "      <td>Fairy Flying</td>\n",
              "      <td>580</td>\n",
              "      <td>74</td>\n",
              "      <td>115</td>\n",
              "      <td>70</td>\n",
              "      <td>135</td>\n",
              "      <td>80</td>\n",
              "      <td>106</td>\n",
              "    </tr>\n",
              "    <tr>\n",
              "      <th>1074</th>\n",
              "      <td>905</td>\n",
              "      <td>Enamorus Therian Forme</td>\n",
              "      <td>Fairy Flying</td>\n",
              "      <td>580</td>\n",
              "      <td>74</td>\n",
              "      <td>115</td>\n",
              "      <td>110</td>\n",
              "      <td>135</td>\n",
              "      <td>100</td>\n",
              "      <td>46</td>\n",
              "    </tr>\n",
              "  </tbody>\n",
              "</table>\n",
              "<p>1075 rows × 10 columns</p>\n",
              "</div>\n",
              "      <button class=\"colab-df-convert\" onclick=\"convertToInteractive('df-a10d9ab1-1fb1-4971-ad53-01585c92a745')\"\n",
              "              title=\"Convert this dataframe to an interactive table.\"\n",
              "              style=\"display:none;\">\n",
              "        \n",
              "  <svg xmlns=\"http://www.w3.org/2000/svg\" height=\"24px\"viewBox=\"0 0 24 24\"\n",
              "       width=\"24px\">\n",
              "    <path d=\"M0 0h24v24H0V0z\" fill=\"none\"/>\n",
              "    <path d=\"M18.56 5.44l.94 2.06.94-2.06 2.06-.94-2.06-.94-.94-2.06-.94 2.06-2.06.94zm-11 1L8.5 8.5l.94-2.06 2.06-.94-2.06-.94L8.5 2.5l-.94 2.06-2.06.94zm10 10l.94 2.06.94-2.06 2.06-.94-2.06-.94-.94-2.06-.94 2.06-2.06.94z\"/><path d=\"M17.41 7.96l-1.37-1.37c-.4-.4-.92-.59-1.43-.59-.52 0-1.04.2-1.43.59L10.3 9.45l-7.72 7.72c-.78.78-.78 2.05 0 2.83L4 21.41c.39.39.9.59 1.41.59.51 0 1.02-.2 1.41-.59l7.78-7.78 2.81-2.81c.8-.78.8-2.07 0-2.86zM5.41 20L4 18.59l7.72-7.72 1.47 1.35L5.41 20z\"/>\n",
              "  </svg>\n",
              "      </button>\n",
              "      \n",
              "  <style>\n",
              "    .colab-df-container {\n",
              "      display:flex;\n",
              "      flex-wrap:wrap;\n",
              "      gap: 12px;\n",
              "    }\n",
              "\n",
              "    .colab-df-convert {\n",
              "      background-color: #E8F0FE;\n",
              "      border: none;\n",
              "      border-radius: 50%;\n",
              "      cursor: pointer;\n",
              "      display: none;\n",
              "      fill: #1967D2;\n",
              "      height: 32px;\n",
              "      padding: 0 0 0 0;\n",
              "      width: 32px;\n",
              "    }\n",
              "\n",
              "    .colab-df-convert:hover {\n",
              "      background-color: #E2EBFA;\n",
              "      box-shadow: 0px 1px 2px rgba(60, 64, 67, 0.3), 0px 1px 3px 1px rgba(60, 64, 67, 0.15);\n",
              "      fill: #174EA6;\n",
              "    }\n",
              "\n",
              "    [theme=dark] .colab-df-convert {\n",
              "      background-color: #3B4455;\n",
              "      fill: #D2E3FC;\n",
              "    }\n",
              "\n",
              "    [theme=dark] .colab-df-convert:hover {\n",
              "      background-color: #434B5C;\n",
              "      box-shadow: 0px 1px 3px 1px rgba(0, 0, 0, 0.15);\n",
              "      filter: drop-shadow(0px 1px 2px rgba(0, 0, 0, 0.3));\n",
              "      fill: #FFFFFF;\n",
              "    }\n",
              "  </style>\n",
              "\n",
              "      <script>\n",
              "        const buttonEl =\n",
              "          document.querySelector('#df-a10d9ab1-1fb1-4971-ad53-01585c92a745 button.colab-df-convert');\n",
              "        buttonEl.style.display =\n",
              "          google.colab.kernel.accessAllowed ? 'block' : 'none';\n",
              "\n",
              "        async function convertToInteractive(key) {\n",
              "          const element = document.querySelector('#df-a10d9ab1-1fb1-4971-ad53-01585c92a745');\n",
              "          const dataTable =\n",
              "            await google.colab.kernel.invokeFunction('convertToInteractive',\n",
              "                                                     [key], {});\n",
              "          if (!dataTable) return;\n",
              "\n",
              "          const docLinkHtml = 'Like what you see? Visit the ' +\n",
              "            '<a target=\"_blank\" href=https://colab.research.google.com/notebooks/data_table.ipynb>data table notebook</a>'\n",
              "            + ' to learn more about interactive tables.';\n",
              "          element.innerHTML = '';\n",
              "          dataTable['output_type'] = 'display_data';\n",
              "          await google.colab.output.renderOutput(dataTable, element);\n",
              "          const docLink = document.createElement('div');\n",
              "          docLink.innerHTML = docLinkHtml;\n",
              "          element.appendChild(docLink);\n",
              "        }\n",
              "      </script>\n",
              "    </div>\n",
              "  </div>\n",
              "  "
            ]
          },
          "metadata": {},
          "execution_count": 57
        }
      ]
    }
  ]
}